{
  "cells": [
    {
      "cell_type": "markdown",
      "metadata": {
        "id": "tIWRvCz0zjqS"
      },
      "source": [
        "## Seaborn Tutorial"
      ]
    },
    {
      "cell_type": "markdown",
      "metadata": {
        "id": "aRlNWQptzjqX"
      },
      "source": [
        "Seaborn is a data visualization library built on top of Matplotlib. It is often used because it makes attractive visualizations and works easily with Pandas. While in Matplotlib you often had to write multiple lines of code to create a plot Seaborn makes assumptions on what you want which often translates into getting the same plot with 1 line of code.\n",
        "\n",
        "You can install it using the Anaconda Environment tab, or by executing the following in your terminal pip install seaborn or conda install seaborn.\n",
        "\n",
        "Shift + Tab after attribute to see options"
      ]
    },
    {
      "cell_type": "markdown",
      "metadata": {
        "id": "mkhgM68szjqZ"
      },
      "source": [
        "### import"
      ]
    },
    {
      "cell_type": "code",
      "execution_count": 19,
      "metadata": {
        "id": "xfiVUfMgzjqZ"
      },
      "outputs": [],
      "source": [
        "import numpy as np\n",
        "import pandas as pd\n",
        "import matplotlib.pyplot as plt\n",
        "import seaborn as sns\n",
        "\n",
        "\n",
        "%matplotlib inline\n",
        "\n",
        "# Auto reloads notebook when changes are made\n",
        "%reload_ext autoreload\n",
        "%autoreload 2"
      ]
    },
    {
      "cell_type": "markdown",
      "metadata": {
        "id": "br2j8bcnzjqa"
      },
      "source": [
        "### Import Data"
      ]
    },
    {
      "cell_type": "code",
      "execution_count": 20,
      "metadata": {
        "id": "rXQF7Ccwzjqb",
        "outputId": "1fba73ea-fcdd-4a22-aeb6-9a13100df9aa",
        "colab": {
          "base_uri": "https://localhost:8080/",
          "height": 356
        }
      },
      "outputs": [
        {
          "output_type": "error",
          "ename": "FileNotFoundError",
          "evalue": "[Errno 2] No such file or directory: 'ComputerSales.csv'",
          "traceback": [
            "\u001b[0;31m---------------------------------------------------------------------------\u001b[0m",
            "\u001b[0;31mFileNotFoundError\u001b[0m                         Traceback (most recent call last)",
            "\u001b[0;32m/tmp/ipython-input-20-26174069.py\u001b[0m in \u001b[0;36m<cell line: 0>\u001b[0;34m()\u001b[0m\n\u001b[1;32m      1\u001b[0m \u001b[0;31m# You can import custom data\u001b[0m\u001b[0;34m\u001b[0m\u001b[0;34m\u001b[0m\u001b[0m\n\u001b[0;32m----> 2\u001b[0;31m \u001b[0mcs_df\u001b[0m \u001b[0;34m=\u001b[0m \u001b[0mpd\u001b[0m\u001b[0;34m.\u001b[0m\u001b[0mread_csv\u001b[0m\u001b[0;34m(\u001b[0m\u001b[0;34m'ComputerSales.csv'\u001b[0m\u001b[0;34m)\u001b[0m\u001b[0;34m\u001b[0m\u001b[0;34m\u001b[0m\u001b[0m\n\u001b[0m\u001b[1;32m      3\u001b[0m \u001b[0;34m\u001b[0m\u001b[0m\n\u001b[1;32m      4\u001b[0m \u001b[0;31m# Seaborn provides built in datasets\u001b[0m\u001b[0;34m\u001b[0m\u001b[0;34m\u001b[0m\u001b[0m\n\u001b[1;32m      5\u001b[0m \u001b[0mprint\u001b[0m\u001b[0;34m(\u001b[0m\u001b[0msns\u001b[0m\u001b[0;34m.\u001b[0m\u001b[0mget_dataset_names\u001b[0m\u001b[0;34m(\u001b[0m\u001b[0;34m)\u001b[0m\u001b[0;34m)\u001b[0m\u001b[0;34m\u001b[0m\u001b[0;34m\u001b[0m\u001b[0m\n",
            "\u001b[0;32m/usr/local/lib/python3.11/dist-packages/pandas/io/parsers/readers.py\u001b[0m in \u001b[0;36mread_csv\u001b[0;34m(filepath_or_buffer, sep, delimiter, header, names, index_col, usecols, dtype, engine, converters, true_values, false_values, skipinitialspace, skiprows, skipfooter, nrows, na_values, keep_default_na, na_filter, verbose, skip_blank_lines, parse_dates, infer_datetime_format, keep_date_col, date_parser, date_format, dayfirst, cache_dates, iterator, chunksize, compression, thousands, decimal, lineterminator, quotechar, quoting, doublequote, escapechar, comment, encoding, encoding_errors, dialect, on_bad_lines, delim_whitespace, low_memory, memory_map, float_precision, storage_options, dtype_backend)\u001b[0m\n\u001b[1;32m   1024\u001b[0m     \u001b[0mkwds\u001b[0m\u001b[0;34m.\u001b[0m\u001b[0mupdate\u001b[0m\u001b[0;34m(\u001b[0m\u001b[0mkwds_defaults\u001b[0m\u001b[0;34m)\u001b[0m\u001b[0;34m\u001b[0m\u001b[0;34m\u001b[0m\u001b[0m\n\u001b[1;32m   1025\u001b[0m \u001b[0;34m\u001b[0m\u001b[0m\n\u001b[0;32m-> 1026\u001b[0;31m     \u001b[0;32mreturn\u001b[0m \u001b[0m_read\u001b[0m\u001b[0;34m(\u001b[0m\u001b[0mfilepath_or_buffer\u001b[0m\u001b[0;34m,\u001b[0m \u001b[0mkwds\u001b[0m\u001b[0;34m)\u001b[0m\u001b[0;34m\u001b[0m\u001b[0;34m\u001b[0m\u001b[0m\n\u001b[0m\u001b[1;32m   1027\u001b[0m \u001b[0;34m\u001b[0m\u001b[0m\n\u001b[1;32m   1028\u001b[0m \u001b[0;34m\u001b[0m\u001b[0m\n",
            "\u001b[0;32m/usr/local/lib/python3.11/dist-packages/pandas/io/parsers/readers.py\u001b[0m in \u001b[0;36m_read\u001b[0;34m(filepath_or_buffer, kwds)\u001b[0m\n\u001b[1;32m    618\u001b[0m \u001b[0;34m\u001b[0m\u001b[0m\n\u001b[1;32m    619\u001b[0m     \u001b[0;31m# Create the parser.\u001b[0m\u001b[0;34m\u001b[0m\u001b[0;34m\u001b[0m\u001b[0m\n\u001b[0;32m--> 620\u001b[0;31m     \u001b[0mparser\u001b[0m \u001b[0;34m=\u001b[0m \u001b[0mTextFileReader\u001b[0m\u001b[0;34m(\u001b[0m\u001b[0mfilepath_or_buffer\u001b[0m\u001b[0;34m,\u001b[0m \u001b[0;34m**\u001b[0m\u001b[0mkwds\u001b[0m\u001b[0;34m)\u001b[0m\u001b[0;34m\u001b[0m\u001b[0;34m\u001b[0m\u001b[0m\n\u001b[0m\u001b[1;32m    621\u001b[0m \u001b[0;34m\u001b[0m\u001b[0m\n\u001b[1;32m    622\u001b[0m     \u001b[0;32mif\u001b[0m \u001b[0mchunksize\u001b[0m \u001b[0;32mor\u001b[0m \u001b[0miterator\u001b[0m\u001b[0;34m:\u001b[0m\u001b[0;34m\u001b[0m\u001b[0;34m\u001b[0m\u001b[0m\n",
            "\u001b[0;32m/usr/local/lib/python3.11/dist-packages/pandas/io/parsers/readers.py\u001b[0m in \u001b[0;36m__init__\u001b[0;34m(self, f, engine, **kwds)\u001b[0m\n\u001b[1;32m   1618\u001b[0m \u001b[0;34m\u001b[0m\u001b[0m\n\u001b[1;32m   1619\u001b[0m         \u001b[0mself\u001b[0m\u001b[0;34m.\u001b[0m\u001b[0mhandles\u001b[0m\u001b[0;34m:\u001b[0m \u001b[0mIOHandles\u001b[0m \u001b[0;34m|\u001b[0m \u001b[0;32mNone\u001b[0m \u001b[0;34m=\u001b[0m \u001b[0;32mNone\u001b[0m\u001b[0;34m\u001b[0m\u001b[0;34m\u001b[0m\u001b[0m\n\u001b[0;32m-> 1620\u001b[0;31m         \u001b[0mself\u001b[0m\u001b[0;34m.\u001b[0m\u001b[0m_engine\u001b[0m \u001b[0;34m=\u001b[0m \u001b[0mself\u001b[0m\u001b[0;34m.\u001b[0m\u001b[0m_make_engine\u001b[0m\u001b[0;34m(\u001b[0m\u001b[0mf\u001b[0m\u001b[0;34m,\u001b[0m \u001b[0mself\u001b[0m\u001b[0;34m.\u001b[0m\u001b[0mengine\u001b[0m\u001b[0;34m)\u001b[0m\u001b[0;34m\u001b[0m\u001b[0;34m\u001b[0m\u001b[0m\n\u001b[0m\u001b[1;32m   1621\u001b[0m \u001b[0;34m\u001b[0m\u001b[0m\n\u001b[1;32m   1622\u001b[0m     \u001b[0;32mdef\u001b[0m \u001b[0mclose\u001b[0m\u001b[0;34m(\u001b[0m\u001b[0mself\u001b[0m\u001b[0;34m)\u001b[0m \u001b[0;34m->\u001b[0m \u001b[0;32mNone\u001b[0m\u001b[0;34m:\u001b[0m\u001b[0;34m\u001b[0m\u001b[0;34m\u001b[0m\u001b[0m\n",
            "\u001b[0;32m/usr/local/lib/python3.11/dist-packages/pandas/io/parsers/readers.py\u001b[0m in \u001b[0;36m_make_engine\u001b[0;34m(self, f, engine)\u001b[0m\n\u001b[1;32m   1878\u001b[0m                 \u001b[0;32mif\u001b[0m \u001b[0;34m\"b\"\u001b[0m \u001b[0;32mnot\u001b[0m \u001b[0;32min\u001b[0m \u001b[0mmode\u001b[0m\u001b[0;34m:\u001b[0m\u001b[0;34m\u001b[0m\u001b[0;34m\u001b[0m\u001b[0m\n\u001b[1;32m   1879\u001b[0m                     \u001b[0mmode\u001b[0m \u001b[0;34m+=\u001b[0m \u001b[0;34m\"b\"\u001b[0m\u001b[0;34m\u001b[0m\u001b[0;34m\u001b[0m\u001b[0m\n\u001b[0;32m-> 1880\u001b[0;31m             self.handles = get_handle(\n\u001b[0m\u001b[1;32m   1881\u001b[0m                 \u001b[0mf\u001b[0m\u001b[0;34m,\u001b[0m\u001b[0;34m\u001b[0m\u001b[0;34m\u001b[0m\u001b[0m\n\u001b[1;32m   1882\u001b[0m                 \u001b[0mmode\u001b[0m\u001b[0;34m,\u001b[0m\u001b[0;34m\u001b[0m\u001b[0;34m\u001b[0m\u001b[0m\n",
            "\u001b[0;32m/usr/local/lib/python3.11/dist-packages/pandas/io/common.py\u001b[0m in \u001b[0;36mget_handle\u001b[0;34m(path_or_buf, mode, encoding, compression, memory_map, is_text, errors, storage_options)\u001b[0m\n\u001b[1;32m    871\u001b[0m         \u001b[0;32mif\u001b[0m \u001b[0mioargs\u001b[0m\u001b[0;34m.\u001b[0m\u001b[0mencoding\u001b[0m \u001b[0;32mand\u001b[0m \u001b[0;34m\"b\"\u001b[0m \u001b[0;32mnot\u001b[0m \u001b[0;32min\u001b[0m \u001b[0mioargs\u001b[0m\u001b[0;34m.\u001b[0m\u001b[0mmode\u001b[0m\u001b[0;34m:\u001b[0m\u001b[0;34m\u001b[0m\u001b[0;34m\u001b[0m\u001b[0m\n\u001b[1;32m    872\u001b[0m             \u001b[0;31m# Encoding\u001b[0m\u001b[0;34m\u001b[0m\u001b[0;34m\u001b[0m\u001b[0m\n\u001b[0;32m--> 873\u001b[0;31m             handle = open(\n\u001b[0m\u001b[1;32m    874\u001b[0m                 \u001b[0mhandle\u001b[0m\u001b[0;34m,\u001b[0m\u001b[0;34m\u001b[0m\u001b[0;34m\u001b[0m\u001b[0m\n\u001b[1;32m    875\u001b[0m                 \u001b[0mioargs\u001b[0m\u001b[0;34m.\u001b[0m\u001b[0mmode\u001b[0m\u001b[0;34m,\u001b[0m\u001b[0;34m\u001b[0m\u001b[0;34m\u001b[0m\u001b[0m\n",
            "\u001b[0;31mFileNotFoundError\u001b[0m: [Errno 2] No such file or directory: 'ComputerSales.csv'"
          ]
        }
      ],
      "source": [
        "# You can import custom data\n",
        "\n",
        "\n",
        "# Seaborn provides built in datasets\n",
        "print(sns.get_dataset_names())\n",
        "\n",
        "# Load a built in dataset based on US State car crash percentages\n",
        "crash_df = sns.load_dataset('car_crashes')"
      ]
    },
    {
      "cell_type": "markdown",
      "metadata": {
        "id": "HAPQGZf6zjqb"
      },
      "source": [
        "### Distribution Plots"
      ]
    },
    {
      "cell_type": "markdown",
      "metadata": {
        "id": "7e9yVZBQzjqc"
      },
      "source": [
        "### Distribution Plot"
      ]
    },
    {
      "cell_type": "code",
      "execution_count": null,
      "metadata": {
        "id": "r7w7Wgjszjqc"
      },
      "outputs": [],
      "source": [
        "# Provides a way to look at a univariate distribution. A\n",
        "# univeriate distribution provides a distribution for one variable\n",
        "# Kernal Density Estimation with a Histogram is provided\n",
        "# kde=False removes the KDE\n",
        "# Bins define how many buckets to divide the data up into between intervals\n",
        "# For example put all profits between $10 and $20 in this bucket\n",
        "sns.distplot(crash_df['not_distracted'], kde=False, bins=25)"
      ]
    },
    {
      "cell_type": "markdown",
      "metadata": {
        "id": "R6Yzscy6zjqd"
      },
      "source": [
        "### Joint Plot"
      ]
    },
    {
      "cell_type": "code",
      "execution_count": null,
      "metadata": {
        "id": "LucAnyFGzjqd"
      },
      "outputs": [],
      "source": [
        "# Jointplot compares 2 distributions and plots a scatter plot by default\n",
        "# As we can see as people tend to speed they also tend to drink & drive\n",
        "# With kind you can create a regression line with kind='reg'\n",
        "# You can create a 2D KDE with kind='kde'\n",
        "# Kernal Density Estimation estimates the distribution of data\n",
        "# You can create a hexagon distribution with kind='hex'\n",
        "sns.jointplot(x='speeding', y='alcohol', data=crash_df, kind='reg')"
      ]
    },
    {
      "cell_type": "markdown",
      "metadata": {
        "id": "yZkK5Il-zjqd"
      },
      "source": [
        "### KDE Plot"
      ]
    },
    {
      "cell_type": "code",
      "execution_count": null,
      "metadata": {
        "id": "_vVmmc4jzjqd"
      },
      "outputs": [],
      "source": [
        "# Get just the KDE plot\n",
        "sns.kdeplot(crash_df['alcohol'])"
      ]
    },
    {
      "cell_type": "markdown",
      "metadata": {
        "id": "WDHRfbMXzjqe"
      },
      "source": [
        "### Pair Plots"
      ]
    },
    {
      "cell_type": "code",
      "execution_count": null,
      "metadata": {
        "id": "Q6n_-oZdzjqe"
      },
      "outputs": [],
      "source": [
        "# Pair Plot plots relationships across the entire data frames numerical values\n",
        "sns.pairplot(crash_df)\n",
        "\n",
        "# Load data on tips\n",
        "tips_df = sns.load_dataset('tips')\n",
        "\n",
        "# With hue you can pass in a categorical column and the charts will be colorized\n",
        "# You can use color maps from Matplotlib to define what colors to use\n",
        "# sns.pairplot(tips_df, hue='sex', palette='Blues')"
      ]
    },
    {
      "cell_type": "markdown",
      "metadata": {
        "id": "n5F20nTQzjqe"
      },
      "source": [
        "### Rug Plots"
      ]
    },
    {
      "cell_type": "code",
      "execution_count": null,
      "metadata": {
        "id": "cmcIqkQuzjqe"
      },
      "outputs": [],
      "source": [
        "# Plots a single column of datapoints in an array as sticks on an axis\n",
        "# With a rug plot you'll see a more dense number of lines where the amount is\n",
        "# most common. This is like how a histogram is taller where values are more common\n",
        "sns.rugplot(tips_df['tip'])"
      ]
    },
    {
      "cell_type": "markdown",
      "metadata": {
        "id": "nfbirTJczjqe"
      },
      "source": [
        "### Styling"
      ]
    },
    {
      "cell_type": "code",
      "execution_count": null,
      "metadata": {
        "id": "o9JXVbS1zjqf"
      },
      "outputs": [],
      "source": [
        "# You can set styling for your axes and grids\n",
        "# white, darkgrid, whitegrid, dark, ticks\n",
        "sns.set_style('white')\n",
        "\n",
        "# You can use figure sizing from Matplotlib\n",
        "plt.figure(figsize=(8,4))\n",
        "\n",
        "# Change size of lables, lines and other elements to best fit\n",
        "# how you will present your data (paper, talk, poster)\n",
        "sns.set_context('paper', font_scale=1.4)\n",
        "\n",
        "sns.jointplot(x='speeding', y='alcohol', data=crash_df, kind='reg')\n",
        "\n",
        "# Get rid of spines\n",
        "# You can turn of specific spines with right=True, left=True\n",
        "# bottom=True, top=True\n",
        "sns.despine(left=False, bottom=False)"
      ]
    },
    {
      "cell_type": "markdown",
      "metadata": {
        "id": "WKwuIOxTzjqf"
      },
      "source": [
        "### Categorical Plots"
      ]
    },
    {
      "cell_type": "markdown",
      "metadata": {
        "id": "bVPuMlPMzjqf"
      },
      "source": [
        "### Bar Plots"
      ]
    },
    {
      "cell_type": "code",
      "execution_count": null,
      "metadata": {
        "id": "JbrDW4u3zjqf"
      },
      "outputs": [],
      "source": [
        "# Focus on distributions using categorical data in reference to one of the numerical\n",
        "# columns\n",
        "\n",
        "# Aggregate categorical data based on a function (mean is the default)\n",
        "# Estimate total bill amount based on sex\n",
        "# With estimator you can define functions to use other than the mean like those\n",
        "# provided by NumPy : median, std, var, cov or make your own functions\n",
        "sns.barplot(x='sex',y='total_bill',data=tips_df, estimator=np.median)"
      ]
    },
    {
      "cell_type": "markdown",
      "metadata": {
        "id": "UJNdLmfVzjqg"
      },
      "source": [
        "### Count Plot"
      ]
    },
    {
      "cell_type": "code",
      "execution_count": null,
      "metadata": {
        "id": "KXQb_lblzjqg"
      },
      "outputs": [],
      "source": [
        "# A count plot is like a bar plot, but the estimator is counting\n",
        "# the number of occurances\n",
        "sns.countplot(x='sex',data=tips_df)"
      ]
    },
    {
      "cell_type": "markdown",
      "metadata": {
        "id": "XkuFk5jxzjqh"
      },
      "source": [
        "### Box Plot"
      ]
    },
    {
      "cell_type": "code",
      "execution_count": null,
      "metadata": {
        "id": "1MgRRs30zjqh"
      },
      "outputs": [],
      "source": [
        "plt.figure(figsize=(14,9))\n",
        "sns.set_style('darkgrid')\n",
        "\n",
        "# A box plot allows you to compare different variables\n",
        "# The box shows the quartiles of the data. The bar in the middle is the median and\n",
        "# the box extends 1 standard deviation from the median\n",
        "# The whiskers extend to all the other data aside from the points that are considered\n",
        "# to be outliers\n",
        "# Hue can add another category being sex\n",
        "# We see men spend way more on Friday versus less than women on Saturday\n",
        "sns.boxplot(x='day',y='total_bill',data=tips_df, hue='sex')\n",
        "\n",
        "# Moves legend to the best position\n",
        "plt.legend(loc=0)"
      ]
    },
    {
      "cell_type": "markdown",
      "metadata": {
        "id": "Wa1QwC2uzjqh"
      },
      "source": [
        "### Violin Plot"
      ]
    },
    {
      "cell_type": "code",
      "execution_count": null,
      "metadata": {
        "id": "sHMjG-4fzjqh"
      },
      "outputs": [],
      "source": [
        "# Violin Plot is a combination of the boxplot and KDE\n",
        "# While a box plot corresponds to data points, the violin plot uses the KDE estimation\n",
        "# of the data points\n",
        "# Split allows you to compare how the categories compare to each other\n",
        "sns.violinplot(x='day',y='total_bill',data=tips_df, hue='sex',split=True)"
      ]
    },
    {
      "cell_type": "markdown",
      "metadata": {
        "id": "f8WmOgN9zjqi"
      },
      "source": [
        "### Strip Plot"
      ]
    },
    {
      "cell_type": "code",
      "execution_count": null,
      "metadata": {
        "id": "iZjy5RV5zjqi"
      },
      "outputs": [],
      "source": [
        "plt.figure(figsize=(8,5))\n",
        "\n",
        "# The strip plot draws a scatter plot representing all data points where one\n",
        "# variable is categorical. It is often used to show all observations with\n",
        "# a box plot that represents the average distribution\n",
        "# Jitter spreads data points out so that they aren't stacked on top of each other\n",
        "# Hue breaks data into men and women\n",
        "# Dodge separates the men and women data\n",
        "sns.stripplot(x='day',y='total_bill',data=tips_df, jitter=True,\n",
        "              hue='sex', dodge=True)"
      ]
    },
    {
      "cell_type": "markdown",
      "metadata": {
        "id": "-FhwOVSTzjqi"
      },
      "source": [
        "### Swarm Plot"
      ]
    },
    {
      "cell_type": "code",
      "execution_count": null,
      "metadata": {
        "id": "2A3GBY1rzjqi"
      },
      "outputs": [],
      "source": [
        "# A swarm plot is like a strip plot, but points are adjusted so they don't overlap\n",
        "# It looks like a combination of the violin and strip plots\n",
        "# sns.swarmplot(x='day',y='total_bill',data=tips_df)\n",
        "\n",
        "# You can stack a violin plot with a swarm\n",
        "sns.violinplot(x='day',y='total_bill',data=tips_df)\n",
        "sns.swarmplot(x='day',y='total_bill',data=tips_df, color='white')\n"
      ]
    },
    {
      "cell_type": "markdown",
      "metadata": {
        "id": "u6reatObzjqj"
      },
      "source": [
        "### Palettes"
      ]
    },
    {
      "cell_type": "code",
      "execution_count": null,
      "metadata": {
        "id": "NheL_cLxzjqj"
      },
      "outputs": [],
      "source": [
        "plt.figure(figsize=(8,6))\n",
        "\n",
        "sns.set_style('dark')\n",
        "\n",
        "sns.set_context('talk')\n",
        "\n",
        "# You can use Matplotlibs color maps for color styling\n",
        "# https://matplotlib.org/3.3.1/tutorials/colors/colormaps.html\n",
        "sns.stripplot(x='day',y='total_bill',data=tips_df, hue='sex',\n",
        "             palette='seismic')\n",
        "\n",
        "# Add the optional legend with a location number (best: 0,\n",
        "# upper right: 1, upper left: 2, lower left: 3, lower right: 4,\n",
        "# https://matplotlib.org/3.3.1/api/_as_gen/matplotlib.pyplot.legend.html)\n",
        "# or supply a tuple of x & y from lower left\n",
        "plt.legend(loc=0)"
      ]
    },
    {
      "cell_type": "markdown",
      "metadata": {
        "id": "IpcU6Lvozjqj"
      },
      "source": [
        "### Matrix Plots"
      ]
    },
    {
      "cell_type": "markdown",
      "metadata": {
        "id": "vbHIdEOIzjqj"
      },
      "source": [
        "### Heatmaps"
      ]
    },
    {
      "cell_type": "code",
      "execution_count": null,
      "metadata": {
        "id": "lJULY4JOzjqk"
      },
      "outputs": [],
      "source": [
        "plt.figure(figsize=(8,6))\n",
        "sns.set_context('paper', font_scale=1.4)\n",
        "# To create a heatmap with data you must have data set up as a matrix where variables\n",
        "# are on the columns and rows\n",
        "\n",
        "# Correlation tells you how influential a variable is on the result\n",
        "# So we see that n previous accident is heavily correlated with accidents, while the\n",
        "# insurance premium is not\n",
        "crash_mx = crash_df.corr()\n",
        "\n",
        "# Create the heatmap, add annotations and a color map\n",
        "sns.heatmap(crash_mx, annot=True, cmap='Blues')"
      ]
    },
    {
      "cell_type": "code",
      "execution_count": null,
      "metadata": {
        "id": "4PaC4CfOzjqk"
      },
      "outputs": [],
      "source": [
        "plt.figure(figsize=(8,6))\n",
        "sns.set_context('paper', font_scale=1.4)\n",
        "\n",
        "# We can create a matrix with an index of month, columns representing years\n",
        "# and the number of passengers for each\n",
        "# We see that flights have increased over time and that most people travel in\n",
        "# July and August\n",
        "flights = sns.load_dataset(\"flights\")\n",
        "flights = flights.pivot_table(index='month', columns='year', values='passengers')\n",
        "# You can separate data with lines\n",
        "sns.heatmap(flights, cmap='Blues', linecolor='white', linewidth=1)"
      ]
    },
    {
      "cell_type": "markdown",
      "metadata": {
        "id": "xqkpom6rzjqk"
      },
      "source": [
        "### Cluster Map"
      ]
    },
    {
      "cell_type": "code",
      "execution_count": 21,
      "metadata": {
        "id": "VReIYYWpzjqq",
        "outputId": "60d63f15-926f-4959-f3db-46f9d6fcd561",
        "colab": {
          "base_uri": "https://localhost:8080/",
          "height": 193
        }
      },
      "outputs": [
        {
          "output_type": "error",
          "ename": "NameError",
          "evalue": "name 'flights' is not defined",
          "traceback": [
            "\u001b[0;31m---------------------------------------------------------------------------\u001b[0m",
            "\u001b[0;31mNameError\u001b[0m                                 Traceback (most recent call last)",
            "\u001b[0;32m/tmp/ipython-input-21-25978014.py\u001b[0m in \u001b[0;36m<cell line: 0>\u001b[0;34m()\u001b[0m\n\u001b[1;32m     15\u001b[0m \u001b[0;31m# You can see clusters of data for July & August for the years 59 & 60\u001b[0m\u001b[0;34m\u001b[0m\u001b[0;34m\u001b[0m\u001b[0m\n\u001b[1;32m     16\u001b[0m \u001b[0;31m# standard_scale normalizes the data to focus on the clustering\u001b[0m\u001b[0;34m\u001b[0m\u001b[0;34m\u001b[0m\u001b[0m\n\u001b[0;32m---> 17\u001b[0;31m \u001b[0msns\u001b[0m\u001b[0;34m.\u001b[0m\u001b[0mclustermap\u001b[0m\u001b[0;34m(\u001b[0m\u001b[0mflights\u001b[0m\u001b[0;34m,\u001b[0m\u001b[0mcmap\u001b[0m\u001b[0;34m=\u001b[0m\u001b[0;34m\"Blues\"\u001b[0m\u001b[0;34m,\u001b[0m \u001b[0mstandard_scale\u001b[0m\u001b[0;34m=\u001b[0m\u001b[0;36m1\u001b[0m\u001b[0;34m)\u001b[0m\u001b[0;34m\u001b[0m\u001b[0;34m\u001b[0m\u001b[0m\n\u001b[0m",
            "\u001b[0;31mNameError\u001b[0m: name 'flights' is not defined"
          ]
        },
        {
          "output_type": "display_data",
          "data": {
            "text/plain": [
              "<Figure size 800x600 with 0 Axes>"
            ]
          },
          "metadata": {}
        }
      ],
      "source": [
        "plt.figure(figsize=(8,6))\n",
        "sns.set_context('paper', font_scale=1.4)\n",
        "\n",
        "# A Cluster map is a hierarchically clustered heatmap\n",
        "# The distance between points is calculated, the closest are joined, and this\n",
        "# continues for the next closest (It compares columns / rows of the heatmap)\n",
        "# This is data on iris flowers with data on petal lengths\n",
        "iris = sns.load_dataset(\"iris\")\n",
        "# Return values for species\n",
        "# species = iris.pop(\"species\")\n",
        "# sns.clustermap(iris)\n",
        "\n",
        "# With our flights data we can see that years have been reoriented to place\n",
        "# like data closer together\n",
        "# You can see clusters of data for July & August for the years 59 & 60\n",
        "# standard_scale normalizes the data to focus on the clustering\n",
        "sns.clustermap(flights,cmap=\"Blues\", standard_scale=1)\n"
      ]
    },
    {
      "cell_type": "markdown",
      "metadata": {
        "id": "5qKBMIztzjqq"
      },
      "source": [
        "### PairGrid"
      ]
    },
    {
      "cell_type": "code",
      "execution_count": null,
      "metadata": {
        "id": "OEDIbirBzjqr"
      },
      "outputs": [],
      "source": [
        "plt.figure(figsize=(8,6))\n",
        "sns.set_context('paper', font_scale=1.4)\n",
        "\n",
        "# You can create a grid of different plots with complete control over what is displayed\n",
        "# Create the empty grid system using the provided data\n",
        "# Colorize based on species\n",
        "# iris_g = sns.PairGrid(iris, hue=\"species\")\n",
        "\n",
        "# Put a scatter plot across the upper, lower and diagonal\n",
        "# iris_g.map(plt.scatter)\n",
        "\n",
        "# Put a histogram on the diagonal\n",
        "# iris_g.map_diag(plt.hist)\n",
        "# And a scatter plot every place else\n",
        "# iris_g.map_offdiag(plt.scatter)\n",
        "\n",
        "# Have different plots in upper, lower and diagonal\n",
        "# iris_g.map_upper(plt.scatter)\n",
        "# iris_g.map_lower(sns.kdeplot)\n",
        "\n",
        "# You can define define variables for x & y for a custom grid\n",
        "iris_g = sns.PairGrid(iris, hue=\"species\",\n",
        "                      x_vars=[\"sepal_length\", \"sepal_width\"],\n",
        "                      y_vars=[\"petal_length\", \"petal_width\"])\n",
        "\n",
        "iris_g.map(plt.scatter)\n",
        "\n",
        "# Add a legend last\n",
        "iris_g.add_legend()"
      ]
    },
    {
      "cell_type": "markdown",
      "metadata": {
        "id": "Uk5eaZ_Rzjqr"
      },
      "source": [
        "### Facet Grid"
      ]
    },
    {
      "cell_type": "code",
      "execution_count": null,
      "metadata": {
        "id": "voXznHmNzjqr"
      },
      "outputs": [],
      "source": [
        "# Can also print multiple plots in a grid in which you define columns & rows\n",
        "# Get histogram for smokers and non with total bill for lunch & dinner\n",
        "# tips_fg = sns.FacetGrid(tips_df, col='time', row='smoker')\n",
        "\n",
        "# You can pass in attributes for the histogram\n",
        "# tips_fg.map(plt.hist, \"total_bill\", bins=8)\n",
        "\n",
        "# Create a scatter plot with data on total bill & tip (You need to parameters)\n",
        "# tips_fg.map(plt.scatter, \"total_bill\", \"tip\")\n",
        "\n",
        "# We can assign variables to different colors and increase size of grid\n",
        "# Aspect is 1.3 x the size of height\n",
        "# You can change the order of the columns\n",
        "# Define the palette used\n",
        "# tips_fg = sns.FacetGrid(tips_df, col='time', hue='smoker', height=4, aspect=1.3,\n",
        "#                       col_order=['Dinner', 'Lunch'], palette='Set1')\n",
        "# tips_fg.map(plt.scatter, \"total_bill\", \"tip\", edgecolor='w')\n",
        "\n",
        "# # Define size, linewidth and assign a color of white to markers\n",
        "# kws = dict(s=50, linewidth=.5, edgecolor=\"w\")\n",
        "# # Define that we want to assign different markers to smokers and non\n",
        "# tips_fg = sns.FacetGrid(tips_df, col='sex', hue='smoker', height=4, aspect=1.3,\n",
        "#                         hue_order=['Yes','No'],\n",
        "#                         hue_kws=dict(marker=['^', 'v']))\n",
        "# tips_fg.map(plt.scatter, \"total_bill\", \"tip\", **kws)\n",
        "# tips_fg.add_legend()\n",
        "\n",
        "# This dataframe provides scores for different students based on the level\n",
        "# of attention they could provide during testing\n",
        "att_df = sns.load_dataset(\"attention\")\n",
        "# Put each person in their own plot with 5 per line and plot their scores\n",
        "att_fg = sns.FacetGrid(att_df, col='subject', col_wrap=5, height=1.5)\n",
        "att_fg.map(plt.plot, 'solutions', 'score', marker='.')"
      ]
    },
    {
      "cell_type": "markdown",
      "metadata": {
        "id": "iXc1a97szjqs"
      },
      "source": [
        "### Regression Plots"
      ]
    },
    {
      "cell_type": "code",
      "execution_count": null,
      "metadata": {
        "id": "PxbUKCiazjqs"
      },
      "outputs": [],
      "source": [
        "# lmplot combines regression plots with facet grid\n",
        "tips_df = sns.load_dataset('tips')\n",
        "tips_df.head()"
      ]
    },
    {
      "cell_type": "code",
      "execution_count": null,
      "metadata": {
        "id": "fxeWCEhIzjqs"
      },
      "outputs": [],
      "source": [
        "plt.figure(figsize=(8,6))\n",
        "sns.set_context('paper', font_scale=1.4)\n",
        "\n",
        "plt.figure(figsize=(8,6))\n",
        "\n",
        "# We can plot a regression plot studying whether total bill effects the tip\n",
        "# hue is used to show separation based off of categorical data\n",
        "# We see that males tend to tip slightly more\n",
        "# Define different markers for men and women\n",
        "# You can effect the scatter plot by passing in a dictionary for styling of markers\n",
        "sns.lmplot(x='total_bill', y='tip', hue='sex', data=tips_df, markers=['o', '^'],\n",
        "          scatter_kws={'s': 100, 'linewidth': 0.5, 'edgecolor': 'w'})"
      ]
    },
    {
      "cell_type": "code",
      "execution_count": null,
      "metadata": {
        "id": "NOHD3g4mzjqt"
      },
      "outputs": [],
      "source": [
        "# You can separate the data into separate columns for day data\n",
        "# sns.lmplot(x='total_bill', y='tip', col='sex', row='time', data=tips_df)\n",
        "tips_df.head()\n",
        "\n",
        "# Makes the fonts more readable\n",
        "sns.set_context('poster', font_scale=1.4)\n",
        "\n",
        "sns.lmplot(x='total_bill', y='tip', data=tips_df, col='day', hue='sex',\n",
        "          height=8, aspect=0.6)"
      ]
    }
  ],
  "metadata": {
    "kernelspec": {
      "display_name": "Python 3",
      "language": "python",
      "name": "python3"
    },
    "language_info": {
      "codemirror_mode": {
        "name": "ipython",
        "version": 3
      },
      "file_extension": ".py",
      "mimetype": "text/x-python",
      "name": "python",
      "nbconvert_exporter": "python",
      "pygments_lexer": "ipython3",
      "version": "3.7.6"
    },
    "colab": {
      "provenance": []
    }
  },
  "nbformat": 4,
  "nbformat_minor": 0
}